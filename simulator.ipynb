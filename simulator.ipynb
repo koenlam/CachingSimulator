{
 "cells": [
  {
   "cell_type": "code",
   "execution_count": 1,
   "metadata": {},
   "outputs": [],
   "source": [
    "import numpy as np\n",
    "import matplotlib.pyplot as plt\n",
    "\n",
    "from trace import gen_irm_trace\n",
    "from policy import LRU, LFU, OGD, gen_best_static\n",
    "from cache import init_cache"
   ]
  },
  {
   "cell_type": "code",
   "execution_count": 2,
   "metadata": {},
   "outputs": [],
   "source": [
    "def simulate_cache(policy, trace, cache_init):\n",
    "    cache = cache_init.copy()\n",
    "    hits = []\n",
    "    for request in trace:\n",
    "        cache, hit = policy(cache, request)\n",
    "        hits.append(hit)\n",
    "    hitrate = np.cumsum(hits) / np.arange(1, len(trace)+1)\n",
    "    return hitrate\n",
    "\n",
    "def plot_comp(LRU, LFU, BH, OGD):\n",
    "    t = np.arange(1, len(LRU)+1)\n",
    "    plt.plot(t, LRU)\n",
    "    plt.plot(t, LFU)\n",
    "    plt.plot(t, BH)\n",
    "    plt.plot(t, OGD)\n",
    "    \n",
    "    plt.xlabel(\"time\")\n",
    "    plt.ylabel(\"avg hits\")\n",
    "    plt.ylim([0, 0.8])\n",
    "\n",
    "    plt.legend((\"LRU\", \"LFU\", \"Best static\", \"OGD\"))\n",
    "\n",
    "    plt.show()"
   ]
  },
  {
   "cell_type": "code",
   "execution_count": 3,
   "metadata": {},
   "outputs": [],
   "source": [
    "cache_size = 30\n",
    "catalog_size = 100\n",
    "sample_size = 1000000\n",
    "power_law_exp = 0.8\n"
   ]
  },
  {
   "cell_type": "code",
   "execution_count": 4,
   "metadata": {},
   "outputs": [
    {
     "name": "stdout",
     "output_type": "stream",
     "text": [
      "Generating trace\n"
     ]
    }
   ],
   "source": [
    "print(\"Generating trace\")\n",
    "trace = gen_irm_trace(sample_size, catalog_size, power_law_exp)\n",
    "cache_init = init_cache(cache_size, catalog_size)"
   ]
  },
  {
   "cell_type": "code",
   "execution_count": 5,
   "metadata": {},
   "outputs": [
    {
     "name": "stdout",
     "output_type": "stream",
     "text": [
      "LRU\n"
     ]
    }
   ],
   "source": [
    "print(\"LRU\")\n",
    "hitrate_LRU = simulate_cache(LRU, trace, cache_init)"
   ]
  },
  {
   "cell_type": "code",
   "execution_count": 6,
   "metadata": {},
   "outputs": [
    {
     "name": "stdout",
     "output_type": "stream",
     "text": [
      "LFU\n"
     ]
    }
   ],
   "source": [
    "print(\"LFU\")\n",
    "LFU.request_freq = np.ones(catalog_size)\n",
    "hitrate_LFU = simulate_cache(LFU, trace, cache_init)"
   ]
  },
  {
   "cell_type": "code",
   "execution_count": 7,
   "metadata": {},
   "outputs": [
    {
     "name": "stdout",
     "output_type": "stream",
     "text": [
      "Best static\n"
     ]
    }
   ],
   "source": [
    "print(\"Best static\")\n",
    "best_static_cache = gen_best_static(trace, cache_size, catalog_size)\n",
    "bs_func = lambda cache, request: (cache, 1) if request in cache else (cache, 0)\n",
    "hitrate_BH = simulate_cache(bs_func, trace, best_static_cache)"
   ]
  },
  {
   "cell_type": "code",
   "execution_count": 8,
   "metadata": {},
   "outputs": [
    {
     "name": "stdout",
     "output_type": "stream",
     "text": [
      "OGD\n"
     ]
    }
   ],
   "source": [
    "print(\"OGD\")\n",
    "hitrate_OGD = OGD(trace, cache_size, catalog_size, sample_size)"
   ]
  },
  {
   "cell_type": "code",
   "execution_count": 9,
   "metadata": {},
   "outputs": [
    {
     "name": "stderr",
     "output_type": "stream",
     "text": [
      "/home/koen/anaconda3/lib/python3.7/site-packages/IPython/core/pylabtools.py:132: UserWarning: Creating legend with loc=\"best\" can be slow with large amounts of data.\n",
      "  fig.canvas.print_figure(bytes_io, **kw)\n"
     ]
    },
    {
     "data": {
      "image/png": "[encoded data removed]",
      "text/plain": [
       "<Figure size 432x288 with 1 Axes>"
      ]
     },
     "metadata": {
      "needs_background": "light"
     },
     "output_type": "display_data"
    }
   ],
   "source": [
    "%matplotlib inline\n",
    "plot_comp(hitrate_LRU, hitrate_LFU, hitrate_BH, hitrate_OGD)"
   ]
  },
  {
   "cell_type": "code",
   "execution_count": null,
   "metadata": {},
   "outputs": [],
   "source": []
  }
 ],
 "metadata": {
  "kernelspec": {
   "display_name": "Python 3",
   "language": "python",
   "name": "python3"
  },
  "language_info": {
   "codemirror_mode": {
    "name": "ipython",
    "version": 3
   },
   "file_extension": ".py",
   "mimetype": "text/x-python",
   "name": "python",
   "nbconvert_exporter": "python",
   "pygments_lexer": "ipython3",
   "version": "3.7.7"
  }
 },
 "nbformat": 4,
 "nbformat_minor": 4
}
