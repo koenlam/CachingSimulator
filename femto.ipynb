{
 "cells": [
  {
   "cell_type": "code",
   "execution_count": 1,
   "id": "a204a8ad",
   "metadata": {},
   "outputs": [],
   "source": [
    "import numpy as np\n",
    "import matplotlib.pyplot as plt\n",
    "import random\n",
    "\n",
    "from tqdm.auto import tqdm\n",
    "\n",
    "from simulator import *"
   ]
  },
  {
   "cell_type": "code",
   "execution_count": 2,
   "id": "4e598e58",
   "metadata": {},
   "outputs": [],
   "source": [
    "plt.rcParams['figure.figsize'] = [15, 10]"
   ]
  },
  {
   "cell_type": "code",
   "execution_count": 3,
   "id": "59e00dba",
   "metadata": {},
   "outputs": [],
   "source": [
    "sample_size = 200000\n",
    "catalog_size = 100\n",
    "num_caches = 3\n",
    "num_dest = 4\n",
    "relative_cache_size = 0.3 / num_caches\n",
    "cache_sizes = np.ones(num_caches, dtype=int)*int(relative_cache_size*catalog_size)"
   ]
  },
  {
   "cell_type": "code",
   "execution_count": 4,
   "id": "7093b488",
   "metadata": {},
   "outputs": [],
   "source": [
    "trace = gen_irm_trace(sample_size, catalog_size, power_law_exp=0.8)\n",
    "destinations = gen_dest_trace(sample_size, num_dest)"
   ]
  },
  {
   "cell_type": "code",
   "execution_count": 5,
   "id": "e7ede82e",
   "metadata": {},
   "outputs": [],
   "source": [
    "# trace, catalog_size, sample_size = parse_trace(load_mat_array(r\"./traces/yt_trace.mat\"))\n",
    "\n",
    "# num_caches = 3\n",
    "# num_dest = 4\n",
    "# relative_cache_size = 0.3 / num_caches\n",
    "# cache_sizes = np.ones(num_caches, dtype=int)*int(relative_cache_size*catalog_size)\n",
    "# destinations = np.random.randint(low=0, high=num_dest, size=sample_size)"
   ]
  },
  {
   "cell_type": "code",
   "execution_count": 6,
   "id": "05186ad5",
   "metadata": {},
   "outputs": [],
   "source": [
    "# Generate Utilities and caches\n",
    "utilities = np.array([\n",
    "    [1, 2, 100],\n",
    "    [1, 2, 100],\n",
    "    [1, 2, 100],\n",
    "    [1, 2, 100]\n",
    "])\n",
    "edges = np.array([\n",
    "    [1, 1, 0],\n",
    "    [1, 1, 0],\n",
    "    [0, 1, 1],\n",
    "    [0, 1, 1]\n",
    "]) # destinations x caches"
   ]
  },
  {
   "cell_type": "code",
   "execution_count": 7,
   "id": "7c14d224",
   "metadata": {},
   "outputs": [],
   "source": [
    "caches_init = np.array([init_cache(cache_size, catalog_size) for cache_size in cache_sizes])"
   ]
  },
  {
   "cell_type": "code",
   "execution_count": 8,
   "id": "c153c209",
   "metadata": {},
   "outputs": [],
   "source": [
    "# Initialize caches\n",
    "cache_mLRU = mLRU(cache_sizes=cache_sizes, catalog_size=catalog_size, caches_init=caches_init, utilities=utilities, edges=edges)\n",
    "cache_LazyLRU = LazyLRU(cache_sizes=cache_sizes, catalog_size=catalog_size, caches_init=caches_init, utilities=utilities, edges=edges)\n",
    "cache_BH = femtoBH(cache_sizes=cache_sizes, catalog_size=catalog_size, caches_init=caches_init, utilities=utilities, edges=edges, trace=trace, destinations=destinations)\n",
    "cache_BSA = BSA(cache_sizes, catalog_size, sample_size, utilities, edges, caches_init=caches_init)\n",
    "cache_D_BSA = DBSA(cache_sizes, catalog_size, sample_size, utilities, edges, caches_init=caches_init)\n",
    "\n",
    "\n",
    "RankOGA_init = lambda cache_size, catalog_size, cache_init : RankOGA(cache_size, catalog_size, cache_init, sample_size=sample_size)\n",
    "RankFTPL_init = lambda cache_size, catalog_size, cache_init : RankFTPL(cache_size, catalog_size, cache_init, sample_size=sample_size)\n",
    "ranking_expert_policies = (RankLRU, RankFTPL_init, RankOGA_init)\n",
    "\n",
    "cache_DEC = FemtoDEC(cache_sizes, catalog_size, caches_init, utilities, edges, ranking_expert_policies, mixing=False)\n",
    "cache_DEC_mix = FemtoDEC(cache_sizes, catalog_size, caches_init, utilities, edges, ranking_expert_policies, mixing=True)\n",
    "\n"
   ]
  },
  {
   "cell_type": "code",
   "execution_count": 9,
   "id": "c3f88f5c",
   "metadata": {},
   "outputs": [
    {
     "data": {
      "application/vnd.jupyter.widget-view+json": {
       "model_id": "d92b73ee474d4d61bb613ac7904491b9",
       "version_major": 2,
       "version_minor": 0
      },
      "text/plain": [
       "  0%|          | 0/7 [00:00<?, ?it/s]"
      ]
     },
     "metadata": {},
     "output_type": "display_data"
    }
   ],
   "source": [
    "caches = (cache_DEC, cache_DEC_mix, cache_BSA, cache_D_BSA, cache_mLRU, cache_LazyLRU, cache_BH)\n",
    "caches = simulate_caches_femto_parallel(caches, trace, destinations)\n",
    "# save_caches(caches, f\"./figures/femto_irm_caches.pickle\")\n",
    "(cache_DEC, cache_DEC_mix, cache_BSA, cache_D_BSA, cache_mLRU, cache_LazyLRU, cache_BH) = caches\n",
    "\n",
    "# for request, dest in tqdm(zip(trace, destinations), total=len(trace)):\n",
    "#     cache_mLRU.request(request, dest)\n",
    "#     cache_LazyLRU.request(request, dest)\n",
    "#     cache_BH.request(request, dest)\n",
    "#     cache_BSA.request(request, dest)\n",
    "#     cache_D_BSA.request(request, dest)\n",
    "#     cache_DEC.request(request, dest)\n",
    "#     cache_DEC_mix.request(request, dest)"
   ]
  },
  {
   "cell_type": "code",
   "execution_count": 10,
   "id": "c4b6ff54",
   "metadata": {},
   "outputs": [
    {
     "data": {
      "application/vnd.jupyter.widget-view+json": {
       "model_id": "fdf05ec97cef4cbe9bd5da9f130d3ee9",
       "version_major": 2,
       "version_minor": 0
      },
      "text/plain": [
       "Canvas(toolbar=Toolbar(toolitems=[('Home', 'Reset original view', 'home', 'home'), ('Back', 'Back to previous …"
      ]
     },
     "metadata": {},
     "output_type": "display_data"
    },
    {
     "data": {
      "text/plain": [
       "<matplotlib.legend.Legend at 0x7fd1f08fc4d0>"
      ]
     },
     "execution_count": 10,
     "metadata": {},
     "output_type": "execute_result"
    },
    {
     "name": "stderr",
     "output_type": "stream",
     "text": [
      "/home/koen/anaconda3/lib/python3.7/site-packages/ipympl/backend_nbagg.py:180: UserWarning: Creating legend with loc=\"best\" can be slow with large amounts of data.\n",
      "  self.manager.handle_json(content)\n"
     ]
    }
   ],
   "source": [
    "%matplotlib ipympl\n",
    "plt.plot(cache_mLRU.get_hitrate())\n",
    "plt.plot(cache_LazyLRU.get_hitrate())\n",
    "plt.plot(cache_BH.get_hitrate())\n",
    "plt.plot(cache_BSA.get_hitrate())\n",
    "plt.plot(cache_D_BSA.get_hitrate())\n",
    "plt.plot(cache_DEC.get_hitrate())\n",
    "plt.plot(cache_DEC_mix.get_hitrate())\n",
    "plt.ylabel(\"Utility\")\n",
    "plt.xlabel(\"Time\")\n",
    "plt.legend([\"mLRU\", \"LazyLRU\", \"~BH\", \"BSA\", \"D-BSA\", \"FemtoDEC\", \"FemtoDEC (Mix)\"])"
   ]
  },
  {
   "cell_type": "code",
   "execution_count": 11,
   "id": "9dcbc952",
   "metadata": {},
   "outputs": [],
   "source": [
    "trace = random_replacement_model(sample_size, catalog_size, power_law_exp=0.8)\n",
    "destinations = gen_dest_trace(sample_size, num_dest)"
   ]
  },
  {
   "cell_type": "code",
   "execution_count": 12,
   "id": "670a903c",
   "metadata": {},
   "outputs": [],
   "source": [
    "caches_init = np.array([init_cache(cache_size, catalog_size) for cache_size in cache_sizes])"
   ]
  },
  {
   "cell_type": "code",
   "execution_count": 13,
   "id": "8c0089c1",
   "metadata": {},
   "outputs": [],
   "source": [
    "# Initialize caches\n",
    "cache_mLRU = mLRU(cache_sizes=cache_sizes, catalog_size=catalog_size, caches_init=caches_init, utilities=utilities, edges=edges)\n",
    "cache_LazyLRU = LazyLRU(cache_sizes=cache_sizes, catalog_size=catalog_size, caches_init=caches_init, utilities=utilities, edges=edges)\n",
    "cache_BH = femtoBH(cache_sizes=cache_sizes, catalog_size=catalog_size, caches_init=caches_init, utilities=utilities, edges=edges, trace=trace, destinations=destinations)\n",
    "cache_BSA = BSA(cache_sizes, catalog_size, sample_size, utilities, edges, caches_init=caches_init)\n",
    "cache_D_BSA = DBSA(cache_sizes, catalog_size, sample_size, utilities, edges, caches_init=caches_init)\n",
    "\n",
    "\n",
    "RankOGA_init = lambda cache_size, catalog_size, cache_init : RankOGA(cache_size, catalog_size, cache_init, sample_size=sample_size)\n",
    "RankFTPL_init = lambda cache_size, catalog_size, cache_init : RankFTPL(cache_size, catalog_size, cache_init, sample_size=sample_size)\n",
    "ranking_expert_policies = (RankLRU, RankFTPL_init, RankOGA_init)\n",
    "\n",
    "cache_DEC = FemtoDEC(cache_sizes, catalog_size, caches_init, utilities, edges, ranking_expert_policies, mixing=False)\n",
    "cache_DEC_mix = FemtoDEC(cache_sizes, catalog_size, caches_init, utilities, edges, ranking_expert_policies, mixing=True)\n",
    "\n"
   ]
  },
  {
   "cell_type": "code",
   "execution_count": 14,
   "id": "df7d4afe",
   "metadata": {},
   "outputs": [
    {
     "data": {
      "application/vnd.jupyter.widget-view+json": {
       "model_id": "9fe4d25fd1b74d4595299e59f0f4a6dc",
       "version_major": 2,
       "version_minor": 0
      },
      "text/plain": [
       "  0%|          | 0/7 [00:00<?, ?it/s]"
      ]
     },
     "metadata": {},
     "output_type": "display_data"
    }
   ],
   "source": [
    "caches = (cache_DEC, cache_DEC_mix, cache_BSA, cache_D_BSA, cache_mLRU, cache_LazyLRU, cache_BH)\n",
    "caches = simulate_caches_femto_parallel(caches, trace, destinations)\n",
    "save_caches(caches, f\"./figures/femto_rrm_caches.pickle\")\n",
    "(cache_DEC, cache_DEC_mix, cache_BSA, cache_D_BSA, cache_mLRU, cache_LazyLRU, cache_BH) = caches"
   ]
  },
  {
   "cell_type": "code",
   "execution_count": 15,
   "id": "8d7c6bb2",
   "metadata": {},
   "outputs": [
    {
     "data": {
      "application/vnd.jupyter.widget-view+json": {
       "model_id": "",
       "version_major": 2,
       "version_minor": 0
      },
      "text/plain": [
       "Canvas(toolbar=Toolbar(toolitems=[('Home', 'Reset original view', 'home', 'home'), ('Back', 'Back to previous …"
      ]
     },
     "metadata": {},
     "output_type": "display_data"
    },
    {
     "data": {
      "text/plain": [
       "<matplotlib.legend.Legend at 0x7f5cbdb9d7d0>"
      ]
     },
     "execution_count": 15,
     "metadata": {},
     "output_type": "execute_result"
    },
    {
     "name": "stderr",
     "output_type": "stream",
     "text": [
      "/home/koen/anaconda3/lib/python3.7/site-packages/ipympl/backend_nbagg.py:180: UserWarning: Creating legend with loc=\"best\" can be slow with large amounts of data.\n",
      "  self.manager.handle_json(content)\n"
     ]
    }
   ],
   "source": [
    "%matplotlib ipympl\n",
    "plt.plot(cache_mLRU.get_hitrate())\n",
    "plt.plot(cache_LazyLRU.get_hitrate())\n",
    "plt.plot(cache_BH.get_hitrate())\n",
    "plt.plot(cache_BSA.get_hitrate())\n",
    "plt.plot(cache_D_BSA.get_hitrate())\n",
    "plt.plot(cache_DEC.get_hitrate())\n",
    "plt.plot(cache_DEC_mix.get_hitrate())\n",
    "plt.ylabel(\"Utility\")\n",
    "plt.xlabel(\"Time\")\n",
    "plt.legend([\"mLRU\", \"LazyLRU\", \"~BH\", \"BSA\", \"D-BSA\", \"FemtoDEC\", \"FemtoDEC (Mix)\"])"
   ]
  },
  {
   "cell_type": "code",
   "execution_count": 16,
   "id": "904b06a4",
   "metadata": {},
   "outputs": [],
   "source": [
    "trace, catalog_size, sample_size = parse_trace(load_mat_array(r\"./traces/yt_trace.mat\"))\n",
    "\n",
    "cache_sizes = np.ones(num_caches, dtype=int)*int(relative_cache_size*catalog_size)\n",
    "destinations = gen_dest_trace(sample_size, num_dest)"
   ]
  },
  {
   "cell_type": "code",
   "execution_count": 20,
   "id": "c1f7fdf7",
   "metadata": {},
   "outputs": [],
   "source": [
    "# Initialize caches\n",
    "caches_init = np.array([init_cache(cache_size, catalog_size) for cache_size in cache_sizes])\n",
    "\n",
    "cache_mLRU = mLRU(cache_sizes=cache_sizes, catalog_size=catalog_size, caches_init=caches_init, utilities=utilities, edges=edges)\n",
    "cache_LazyLRU = LazyLRU(cache_sizes=cache_sizes, catalog_size=catalog_size, caches_init=caches_init, utilities=utilities, edges=edges)\n",
    "cache_BH = femtoBH(cache_sizes=cache_sizes, catalog_size=catalog_size, caches_init=caches_init, utilities=utilities, edges=edges, trace=trace, destinations=destinations)\n",
    "cache_BSA = BSA(cache_sizes, catalog_size, sample_size, utilities, edges, caches_init=caches_init)\n",
    "cache_D_BSA = DBSA(cache_sizes, catalog_size, sample_size, utilities, edges, caches_init=caches_init)\n",
    "\n",
    "\n",
    "RankOGA_init = lambda cache_size, catalog_size, cache_init : RankOGA(cache_size, catalog_size, cache_init, sample_size=sample_size)\n",
    "RankFTPL_init = lambda cache_size, catalog_size, cache_init : RankFTPL(cache_size, catalog_size, cache_init, sample_size=sample_size)\n",
    "ranking_expert_policies = (RankLRU, RankFTPL_init, RankOGA_init)\n",
    "\n",
    "cache_DEC = FemtoDEC(cache_sizes, catalog_size, caches_init, utilities, edges, ranking_expert_policies, mixing=False)\n",
    "cache_DEC_mix = FemtoDEC(cache_sizes, catalog_size, caches_init, utilities, edges, ranking_expert_policies, mixing=True)\n",
    "\n"
   ]
  },
  {
   "cell_type": "code",
   "execution_count": 21,
   "id": "7e30c433",
   "metadata": {},
   "outputs": [
    {
     "data": {
      "application/vnd.jupyter.widget-view+json": {
       "model_id": "9cea720171554be892f3a0eafb4dec55",
       "version_major": 2,
       "version_minor": 0
      },
      "text/plain": [
       "  0%|          | 0/100000 [00:00<?, ?it/s]"
      ]
     },
     "metadata": {},
     "output_type": "display_data"
    }
   ],
   "source": [
    "caches = (cache_DEC, cache_DEC_mix, cache_BSA, cache_D_BSA, cache_mLRU, cache_LazyLRU, cache_BH)\n",
    "caches = simulate_caches_femto(caches, trace, destinations)\n",
    "save_caches(caches, f\"./figures/femto_yt_caches.pickle\")\n",
    "(cache_DEC, cache_DEC_mix, cache_BSA, cache_D_BSA, cache_mLRU, cache_LazyLRU, cache_BH) = caches"
   ]
  },
  {
   "cell_type": "code",
   "execution_count": 22,
   "id": "8c7ba4ad",
   "metadata": {},
   "outputs": [
    {
     "data": {
      "application/vnd.jupyter.widget-view+json": {
       "model_id": "9e2a143f37714e4ba9fb53658083ccc3",
       "version_major": 2,
       "version_minor": 0
      },
      "text/plain": [
       "Canvas(toolbar=Toolbar(toolitems=[('Home', 'Reset original view', 'home', 'home'), ('Back', 'Back to previous …"
      ]
     },
     "metadata": {},
     "output_type": "display_data"
    },
    {
     "data": {
      "text/plain": [
       "<matplotlib.legend.Legend at 0x7f5cb5972950>"
      ]
     },
     "execution_count": 22,
     "metadata": {},
     "output_type": "execute_result"
    },
    {
     "name": "stderr",
     "output_type": "stream",
     "text": [
      "/home/koen/anaconda3/lib/python3.7/site-packages/ipympl/backend_nbagg.py:180: UserWarning: Creating legend with loc=\"best\" can be slow with large amounts of data.\n",
      "  self.manager.handle_json(content)\n"
     ]
    }
   ],
   "source": [
    "%matplotlib ipympl\n",
    "plt.plot(cache_mLRU.get_hitrate())\n",
    "plt.plot(cache_LazyLRU.get_hitrate())\n",
    "plt.plot(cache_BH.get_hitrate())\n",
    "plt.plot(cache_BSA.get_hitrate())\n",
    "plt.plot(cache_D_BSA.get_hitrate())\n",
    "plt.plot(cache_DEC.get_hitrate())\n",
    "plt.plot(cache_DEC_mix.get_hitrate())\n",
    "plt.ylabel(\"Utility\")\n",
    "plt.xlabel(\"Time\")\n",
    "plt.legend([\"mLRU\", \"LazyLRU\", \"~BH\", \"BSA\", \"D-BSA\", \"FemtoDEC\", \"FemtoDEC (Mix)\"])"
   ]
  },
  {
   "cell_type": "code",
   "execution_count": 7,
   "id": "9a84fef2",
   "metadata": {},
   "outputs": [],
   "source": [
    "trace = get_movielens_trace()\n",
    "sample_size, catalog_size = get_trace_stats(trace)\n",
    "\n",
    "cache_sizes = np.ones(num_caches, dtype=int)*int(relative_cache_size*catalog_size)\n",
    "destinations = gen_dest_trace(sample_size, num_dest)"
   ]
  },
  {
   "cell_type": "code",
   "execution_count": 8,
   "id": "27f2c57c",
   "metadata": {},
   "outputs": [],
   "source": [
    "# Initialize caches\n",
    "caches_init = np.array([init_cache(cache_size, catalog_size) for cache_size in cache_sizes])\n",
    "\n",
    "cache_mLRU = mLRU(cache_sizes=cache_sizes, catalog_size=catalog_size, caches_init=caches_init, utilities=utilities, edges=edges)\n",
    "cache_LazyLRU = LazyLRU(cache_sizes=cache_sizes, catalog_size=catalog_size, caches_init=caches_init, utilities=utilities, edges=edges)\n",
    "cache_BH = femtoBH(cache_sizes=cache_sizes, catalog_size=catalog_size, caches_init=caches_init, utilities=utilities, edges=edges, trace=trace, destinations=destinations)\n",
    "cache_BSA = BSA(cache_sizes, catalog_size, sample_size, utilities, edges, caches_init=caches_init)\n",
    "cache_D_BSA = DBSA(cache_sizes, catalog_size, sample_size, utilities, edges, caches_init=caches_init)\n",
    "\n",
    "\n",
    "RankOGA_init = lambda cache_size, catalog_size, cache_init : RankOGA(cache_size, catalog_size, cache_init, sample_size=sample_size)\n",
    "RankFTPL_init = lambda cache_size, catalog_size, cache_init : RankFTPL(cache_size, catalog_size, cache_init, sample_size=sample_size)\n",
    "ranking_expert_policies = (RankLRU, RankFTPL_init, RankOGA_init)\n",
    "\n",
    "cache_DEC = FemtoDEC(cache_sizes, catalog_size, caches_init, utilities, edges, ranking_expert_policies, mixing=False)\n",
    "cache_DEC_mix = FemtoDEC(cache_sizes, catalog_size, caches_init, utilities, edges, ranking_expert_policies, mixing=True)\n"
   ]
  },
  {
   "cell_type": "code",
   "execution_count": 9,
   "id": "592b9fb5",
   "metadata": {},
   "outputs": [
    {
     "data": {
      "application/vnd.jupyter.widget-view+json": {
       "model_id": "aa6c4a92e7484982a83273f0d2bd3e38",
       "version_major": 2,
       "version_minor": 0
      },
      "text/plain": [
       "  0%|          | 0/1000209 [00:00<?, ?it/s]"
      ]
     },
     "metadata": {},
     "output_type": "display_data"
    }
   ],
   "source": [
    "caches = (cache_DEC, cache_DEC_mix, cache_BSA, cache_D_BSA, cache_mLRU, cache_LazyLRU, cache_BH)\n",
    "caches = simulate_caches_femto(caches, trace, destinations)\n",
    "save_caches(caches, f\"./figures/femto_movielens_caches.pickle\")\n",
    "(cache_DEC, cache_DEC_mix, cache_BSA, cache_D_BSA, cache_mLRU, cache_LazyLRU, cache_BH) = caches"
   ]
  },
  {
   "cell_type": "code",
   "execution_count": 10,
   "id": "c8c06552",
   "metadata": {},
   "outputs": [
    {
     "data": {
      "application/vnd.jupyter.widget-view+json": {
       "model_id": "4db97cc0aaae4032a46db0d142d83ee8",
       "version_major": 2,
       "version_minor": 0
      },
      "text/plain": [
       "Canvas(toolbar=Toolbar(toolitems=[('Home', 'Reset original view', 'home', 'home'), ('Back', 'Back to previous …"
      ]
     },
     "metadata": {},
     "output_type": "display_data"
    },
    {
     "data": {
      "text/plain": [
       "<matplotlib.legend.Legend at 0x7f377b09f2d0>"
      ]
     },
     "execution_count": 10,
     "metadata": {},
     "output_type": "execute_result"
    },
    {
     "name": "stderr",
     "output_type": "stream",
     "text": [
      "/home/koen/anaconda3/lib/python3.7/site-packages/ipympl/backend_nbagg.py:180: UserWarning: Creating legend with loc=\"best\" can be slow with large amounts of data.\n",
      "  self.manager.handle_json(content)\n"
     ]
    }
   ],
   "source": [
    "%matplotlib ipympl\n",
    "plt.plot(cache_mLRU.get_hitrate())\n",
    "plt.plot(cache_LazyLRU.get_hitrate())\n",
    "plt.plot(cache_BH.get_hitrate())\n",
    "plt.plot(cache_BSA.get_hitrate())\n",
    "plt.plot(cache_D_BSA.get_hitrate())\n",
    "plt.plot(cache_DEC.get_hitrate())\n",
    "plt.plot(cache_DEC_mix.get_hitrate())\n",
    "plt.ylabel(\"Utility\")\n",
    "plt.xlabel(\"Time\")\n",
    "plt.legend([\"mLRU\", \"LazyLRU\", \"~BH\", \"BSA\", \"D-BSA\", \"FemtoDEC\", \"FemtoDEC (Mix)\"])"
   ]
  },
  {
   "cell_type": "code",
   "execution_count": null,
   "id": "92d4c92c",
   "metadata": {},
   "outputs": [],
   "source": []
  },
  {
   "cell_type": "code",
   "execution_count": null,
   "id": "bae766f9",
   "metadata": {},
   "outputs": [],
   "source": []
  }
 ],
 "metadata": {
  "kernelspec": {
   "display_name": "Python 3",
   "language": "python",
   "name": "python3"
  },
  "language_info": {
   "codemirror_mode": {
    "name": "ipython",
    "version": 3
   },
   "file_extension": ".py",
   "mimetype": "text/x-python",
   "name": "python",
   "nbconvert_exporter": "python",
   "pygments_lexer": "ipython3",
   "version": "3.7.10"
  }
 },
 "nbformat": 4,
 "nbformat_minor": 5
}
