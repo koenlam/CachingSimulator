{
 "cells": [
  {
   "cell_type": "code",
   "execution_count": 1,
   "id": "91537f13",
   "metadata": {},
   "outputs": [],
   "source": [
    "import numpy as np\n",
    "import matplotlib.pyplot as plt\n",
    "import random\n",
    "\n",
    "from tqdm.auto import tqdm\n",
    "\n",
    "from simulator import *"
   ]
  },
  {
   "cell_type": "code",
   "execution_count": 3,
   "id": "75c8976f",
   "metadata": {},
   "outputs": [],
   "source": [
    "plt.rcParams['figure.figsize'] = [15, 10]"
   ]
  },
  {
   "cell_type": "code",
   "execution_count": 4,
   "id": "d7c2cba3",
   "metadata": {},
   "outputs": [],
   "source": [
    "timer = Timer()"
   ]
  },
  {
   "cell_type": "code",
   "execution_count": 5,
   "id": "0b9c83ae",
   "metadata": {},
   "outputs": [],
   "source": [
    "relative_cache_size = 0.3\n",
    "\n",
    "catalog_size = 100\n",
    "cache_size = int(relative_cache_size*catalog_size)\n",
    "sample_size = 200000"
   ]
  },
  {
   "cell_type": "code",
   "execution_count": 6,
   "id": "9a26fa15",
   "metadata": {},
   "outputs": [],
   "source": [
    "trace = gen_irm_trace(sample_size, catalog_size, power_law_exp=0.8)"
   ]
  },
  {
   "cell_type": "code",
   "execution_count": 7,
   "id": "3f27f634",
   "metadata": {},
   "outputs": [],
   "source": [
    "cache_init = init_cache(cache_size, catalog_size)\n",
    "\n",
    "cache_LRU = LRU(cache_size, catalog_size, cache_init)\n",
    "cache_LFU = LFU(cache_size, catalog_size, cache_init)\n",
    "cache_BH = CacheStatic(cache_size, catalog_size, gen_best_static(trace, cache_size))\n",
    "cache_OGA = OGA(cache_size, catalog_size, sample_size, cache_init)\n",
    "cache_DiscreteOGA = DiscreteOGA(cache_size, catalog_size, sample_size, cache_init)\n",
    "cache_FTPL = FTPL(cache_size, catalog_size, cache_init, sample_size=sample_size)\n",
    "\n",
    "DiscreteOGA_init = lambda cache_size, catalog_size, cache_init: DiscreteOGA(cache_size, catalog_size, sample_size, cache_init)\n",
    "FTPL_init =  lambda cache_size, catalog_size, cache_init: FTPL(cache_size, catalog_size, cache_init, sample_size=sample_size)\n",
    "voting_expert_policies = (LRU, FTPL_init, DiscreteOGA_init)\n",
    "cache_voting_experts = VotingExperts(cache_size, catalog_size, cache_init, voting_expert_policies)\n",
    "\n",
    "RankOGA_init = lambda cache_size, catalog_size, cache_init : RankOGA(cache_size, catalog_size, cache_init, sample_size=sample_size)\n",
    "RankFTPL_init = lambda cache_size, catalog_size, cache_init : RankFTPL(cache_size, catalog_size, cache_init, sample_size=sample_size)\n",
    "ranking_expert_policies = (RankLRU, RankFTPL_init, RankOGA_init)\n",
    "cache_ranking_experts = RankingExperts(cache_size, catalog_size, cache_init, ranking_expert_policies,alg=\"SD\", mixing=False)\n",
    "cache_ranking_experts_mix = RankingExperts(cache_size, catalog_size, cache_init, ranking_expert_policies,alg=\"SD\", mixing=True)"
   ]
  },
  {
   "cell_type": "code",
   "execution_count": 8,
   "id": "b6f394e3",
   "metadata": {},
   "outputs": [
    {
     "data": {
      "application/vnd.jupyter.widget-view+json": {
       "model_id": "da035bf3c9b349c1b3a3dca470911a0f",
       "version_major": 2,
       "version_minor": 0
      },
      "text/plain": [
       "  0%|          | 0/9 [00:00<?, ?it/s]"
      ]
     },
     "metadata": {},
     "output_type": "display_data"
    },
    {
     "name": "stderr",
     "output_type": "stream",
     "text": [
      "Process ForkPoolWorker-1:\n",
      "Process ForkPoolWorker-2:\n",
      "Process ForkPoolWorker-4:\n",
      "Process ForkPoolWorker-3:\n",
      "Traceback (most recent call last):\n",
      "Traceback (most recent call last):\n",
      "Traceback (most recent call last):\n",
      "  File \"/home/koen/anaconda3/lib/python3.7/site-packages/multiprocess/process.py\", line 297, in _bootstrap\n",
      "    self.run()\n",
      "Traceback (most recent call last):\n",
      "  File \"/home/koen/anaconda3/lib/python3.7/site-packages/multiprocess/process.py\", line 297, in _bootstrap\n",
      "    self.run()\n",
      "  File \"/home/koen/anaconda3/lib/python3.7/site-packages/multiprocess/process.py\", line 297, in _bootstrap\n",
      "    self.run()\n",
      "  File \"/home/koen/anaconda3/lib/python3.7/site-packages/multiprocess/process.py\", line 297, in _bootstrap\n",
      "    self.run()\n",
      "  File \"/home/koen/anaconda3/lib/python3.7/site-packages/multiprocess/process.py\", line 99, in run\n",
      "    self._target(*self._args, **self._kwargs)\n",
      "  File \"/home/koen/anaconda3/lib/python3.7/site-packages/multiprocess/process.py\", line 99, in run\n",
      "    self._target(*self._args, **self._kwargs)\n",
      "  File \"/home/koen/anaconda3/lib/python3.7/site-packages/multiprocess/process.py\", line 99, in run\n",
      "    self._target(*self._args, **self._kwargs)\n",
      "  File \"/home/koen/anaconda3/lib/python3.7/site-packages/multiprocess/pool.py\", line 110, in worker\n",
      "    task = get()\n",
      "  File \"/home/koen/anaconda3/lib/python3.7/site-packages/multiprocess/pool.py\", line 110, in worker\n",
      "    task = get()\n",
      "  File \"/home/koen/anaconda3/lib/python3.7/site-packages/multiprocess/pool.py\", line 110, in worker\n",
      "    task = get()\n",
      "  File \"/home/koen/anaconda3/lib/python3.7/site-packages/multiprocess/process.py\", line 99, in run\n",
      "    self._target(*self._args, **self._kwargs)\n",
      "  File \"/home/koen/anaconda3/lib/python3.7/site-packages/multiprocess/queues.py\", line 354, in get\n",
      "    with self._rlock:\n",
      "  File \"/home/koen/anaconda3/lib/python3.7/site-packages/multiprocess/queues.py\", line 355, in get\n",
      "    res = self._reader.recv_bytes()\n",
      "  File \"/home/koen/anaconda3/lib/python3.7/site-packages/multiprocess/pool.py\", line 110, in worker\n",
      "    task = get()\n",
      "  File \"/home/koen/anaconda3/lib/python3.7/site-packages/multiprocess/queues.py\", line 354, in get\n",
      "    with self._rlock:\n",
      "  File \"/home/koen/anaconda3/lib/python3.7/site-packages/multiprocess/synchronize.py\", line 102, in __enter__\n",
      "    return self._semlock.__enter__()\n",
      "  File \"/home/koen/anaconda3/lib/python3.7/site-packages/multiprocess/connection.py\", line 219, in recv_bytes\n",
      "    buf = self._recv_bytes(maxlength)\n",
      "  File \"/home/koen/anaconda3/lib/python3.7/site-packages/multiprocess/synchronize.py\", line 102, in __enter__\n",
      "    return self._semlock.__enter__()\n",
      "  File \"/home/koen/anaconda3/lib/python3.7/site-packages/multiprocess/queues.py\", line 354, in get\n",
      "    with self._rlock:\n",
      "KeyboardInterrupt\n",
      "KeyboardInterrupt\n",
      "  File \"/home/koen/anaconda3/lib/python3.7/site-packages/multiprocess/connection.py\", line 410, in _recv_bytes\n",
      "    buf = self._recv(4)\n",
      "  File \"/home/koen/anaconda3/lib/python3.7/site-packages/multiprocess/synchronize.py\", line 102, in __enter__\n",
      "    return self._semlock.__enter__()\n",
      "  File \"/home/koen/anaconda3/lib/python3.7/site-packages/multiprocess/connection.py\", line 382, in _recv\n",
      "    chunk = read(handle, remaining)\n",
      "KeyboardInterrupt\n",
      "KeyboardInterrupt\n"
     ]
    }
   ],
   "source": [
    "caches = (cache_ranking_experts, cache_ranking_experts_mix, cache_voting_experts, cache_OGA, cache_DiscreteOGA, cache_FTPL, cache_LRU, cache_LFU, cache_BH)\n",
    "caches = simulate_caches_parallel(caches, trace)\n",
    "# save_caches(caches, f\"./figures/irm_caches_{relative_cache_size}.pickle\")\n",
    "(cache_ranking_experts, cache_ranking_experts_mix, cache_voting_experts, cache_OGA, cache_DiscreteOGA, cache_FTPL, cache_LRU, cache_LFU, cache_BH) = caches"
   ]
  },
  {
   "cell_type": "code",
   "execution_count": null,
   "id": "f6c3d21e",
   "metadata": {},
   "outputs": [],
   "source": [
    "(cache_ranking_experts, cache_ranking_experts_mix, cache_voting_experts, cache_OGA, cache_DiscreteOGA, cache_FTPL, cache_LRU, cache_LFU, cache_BH) = caches"
   ]
  },
  {
   "cell_type": "code",
   "execution_count": 9,
   "id": "8d53fbb1",
   "metadata": {},
   "outputs": [
    {
     "data": {
      "image/png": "[encoded data removed]",
      "text/plain": [
       "<Figure size 432x288 with 1 Axes>"
      ]
     },
     "metadata": {
      "needs_background": "light"
     },
     "output_type": "display_data"
    }
   ],
   "source": [
    "# %matplotlib ipympl\n",
    "%matplotlib inline\n",
    "plot_comp(\\\n",
    "          cache_LRU,\\\n",
    "          cache_LFU,\\\n",
    "          cache_BH,\\\n",
    "#           cache_OGA,\\\n",
    "          cache_DiscreteOGA,\\\n",
    "          cache_FTPL,\\\n",
    "          cache_voting_experts,\\\n",
    "          cache_ranking_experts,\\\n",
    "         )"
   ]
  },
  {
   "cell_type": "code",
   "execution_count": 6,
   "id": "907a6cb2",
   "metadata": {},
   "outputs": [],
   "source": [
    "trace = random_replacement_model(sample_size, catalog_size, power_law_exp=0.8, shuffled=False, replacement_rate=4)"
   ]
  },
  {
   "cell_type": "code",
   "execution_count": 15,
   "id": "05dafe10",
   "metadata": {},
   "outputs": [],
   "source": [
    "cache_init = init_cache(cache_size, catalog_size)\n",
    "\n",
    "cache_LRU = LRU(cache_size, catalog_size, cache_init)\n",
    "cache_LFU = LFU(cache_size, catalog_size, cache_init)\n",
    "cache_BH = CacheStatic(cache_size, catalog_size, gen_best_static(trace, cache_size))\n",
    "cache_OGA = OGA(cache_size, catalog_size, sample_size, cache_init)\n",
    "cache_DiscreteOGA = DiscreteOGA(cache_size, catalog_size, sample_size, cache_init)\n",
    "cache_FTPL = FTPL(cache_size, catalog_size, cache_init, sample_size=sample_size)\n",
    "\n",
    "DiscreteOGA_init = lambda cache_size, catalog_size, cache_init: DiscreteOGA(cache_size, catalog_size, sample_size, cache_init)\n",
    "FTPL_init =  lambda cache_size, catalog_size, cache_init: FTPL(cache_size, catalog_size, cache_init, sample_size=sample_size)\n",
    "voting_expert_policies = (LRU, FTPL_init, DiscreteOGA_init)\n",
    "cache_voting_experts = VotingExperts(cache_size, catalog_size, cache_init, voting_expert_policies)\n",
    "\n",
    "RankOGA_init = lambda cache_size, catalog_size, cache_init : RankOGA(cache_size, catalog_size, cache_init, sample_size=sample_size)\n",
    "RankFTPL_init = lambda cache_size, catalog_size, cache_init : RankFTPL(cache_size, catalog_size, cache_init, sample_size=sample_size)\n",
    "ranking_expert_policies = (RankLRU, RankFTPL_init, RankOGA_init)\n",
    "cache_ranking_experts = RankingExperts(cache_size, catalog_size, cache_init, ranking_expert_policies,alg=\"SD\", mixing=False, eps=0.1 )\n",
    "cache_ranking_experts_mix = RankingExperts(cache_size, catalog_size, cache_init, ranking_expert_policies,alg=\"SD\", mixing=True, eps=0.1)"
   ]
  },
  {
   "cell_type": "code",
   "execution_count": 16,
   "id": "b9eed480",
   "metadata": {},
   "outputs": [
    {
     "data": {
      "application/vnd.jupyter.widget-view+json": {
       "model_id": "fd3057c5564944cdbf0a01c765609b48",
       "version_major": 2,
       "version_minor": 0
      },
      "text/plain": [
       "  0%|          | 0/9 [00:00<?, ?it/s]"
      ]
     },
     "metadata": {},
     "output_type": "display_data"
    }
   ],
   "source": [
    "caches = (cache_ranking_experts, cache_ranking_experts_mix, cache_voting_experts, cache_OGA, cache_DiscreteOGA, cache_FTPL, cache_LRU, cache_LFU, cache_BH)\n",
    "caches = simulate_caches_parallel(caches, trace)\n",
    "# save_caches(caches, f\"./figures/rrm_caches_{relative_cache_size}.pickle\")\n",
    "(cache_ranking_experts, cache_ranking_experts_mix, cache_voting_experts, cache_OGA, cache_DiscreteOGA, cache_FTPL, cache_LRU, cache_LFU, cache_BH) = caches"
   ]
  },
  {
   "cell_type": "code",
   "execution_count": 18,
   "id": "1f5cd240",
   "metadata": {},
   "outputs": [
    {
     "data": {
      "application/vnd.jupyter.widget-view+json": {
       "model_id": "b0ba35f18fe94d54ace4b5fa97e86ff2",
       "version_major": 2,
       "version_minor": 0
      },
      "text/plain": [
       "Canvas(toolbar=Toolbar(toolitems=[('Home', 'Reset original view', 'home', 'home'), ('Back', 'Back to previous …"
      ]
     },
     "metadata": {},
     "output_type": "display_data"
    },
    {
     "name": "stderr",
     "output_type": "stream",
     "text": [
      "/home/koen/anaconda3/lib/python3.7/site-packages/matplotlib/ticker.py:1123: RuntimeWarning: divide by zero encountered in double_scalars\n",
      "  coeff = np.round(x / b ** exponent)\n",
      "/home/koen/anaconda3/lib/python3.7/site-packages/ipympl/backend_nbagg.py:180: UserWarning: Creating legend with loc=\"best\" can be slow with large amounts of data.\n",
      "  self.manager.handle_json(content)\n"
     ]
    }
   ],
   "source": [
    "%matplotlib ipympl\n",
    "cache_ranking_experts.plot_expert_weights()\n",
    "plt.yscale(\"log\")"
   ]
  },
  {
   "cell_type": "code",
   "execution_count": 12,
   "id": "0b8d0869",
   "metadata": {},
   "outputs": [
    {
     "data": {
      "application/vnd.jupyter.widget-view+json": {
       "model_id": "",
       "version_major": 2,
       "version_minor": 0
      },
      "text/plain": [
       "Canvas(toolbar=Toolbar(toolitems=[('Home', 'Reset original view', 'home', 'home'), ('Back', 'Back to previous …"
      ]
     },
     "metadata": {},
     "output_type": "display_data"
    }
   ],
   "source": [
    "%matplotlib ipympl\n",
    "# %matplotlib inline\n",
    "plot_comp(\\\n",
    "          cache_LRU,\\\n",
    "          cache_LFU,\\\n",
    "          cache_BH,\\\n",
    "#           cache_OGA,\\\n",
    "          cache_DiscreteOGA,\\\n",
    "          cache_FTPL,\\\n",
    "          cache_voting_experts,\\\n",
    "          cache_ranking_experts,\\\n",
    "          cache_ranking_experts_mix,\\\n",
    "         )"
   ]
  },
  {
   "cell_type": "code",
   "execution_count": 16,
   "id": "39619e81",
   "metadata": {},
   "outputs": [],
   "source": [
    "trace, catalog_size, sample_size = parse_trace(load_mat_array(r\"./traces/yt_trace.mat\"))\n",
    "\n",
    "cache_size = int(relative_cache_size*catalog_size)"
   ]
  },
  {
   "cell_type": "code",
   "execution_count": 17,
   "id": "f0fbc3d7",
   "metadata": {},
   "outputs": [],
   "source": [
    "cache_init = init_cache(cache_size, catalog_size)\n",
    "\n",
    "cache_LRU = LRU(cache_size, catalog_size, cache_init)\n",
    "cache_LFU = LFU(cache_size, catalog_size, cache_init)\n",
    "cache_BH = CacheStatic(cache_size, catalog_size, gen_best_static(trace, cache_size))\n",
    "cache_OGA = OGA(cache_size, catalog_size, sample_size, cache_init)\n",
    "cache_DiscreteOGA = DiscreteOGA(cache_size, catalog_size, sample_size, cache_init)\n",
    "cache_FTPL = FTPL(cache_size, catalog_size, cache_init, sample_size=sample_size)\n",
    "\n",
    "DiscreteOGA_init = lambda cache_size, catalog_size, cache_init: DiscreteOGA(cache_size, catalog_size, sample_size, cache_init)\n",
    "FTPL_init =  lambda cache_size, catalog_size, cache_init: FTPL(cache_size, catalog_size, cache_init, sample_size=sample_size)\n",
    "voting_expert_policies = (LRU, FTPL_init, DiscreteOGA_init)\n",
    "cache_voting_experts = VotingExperts(cache_size, catalog_size, cache_init, voting_expert_policies)\n",
    "\n",
    "RankOGA_init = lambda cache_size, catalog_size, cache_init : RankOGA(cache_size, catalog_size, cache_init, sample_size=sample_size)\n",
    "RankFTPL_init = lambda cache_size, catalog_size, cache_init : RankFTPL(cache_size, catalog_size, cache_init, sample_size=sample_size)\n",
    "ranking_expert_policies = (RankLRU, RankFTPL_init, RankOGA_init)\n",
    "cache_ranking_experts = RankingExperts(cache_size, catalog_size, cache_init, ranking_expert_policies,alg=\"SD\", mixing=False)\n",
    "cache_ranking_experts_mix = RankingExperts(cache_size, catalog_size, cache_init, ranking_expert_policies,alg=\"SD\", mixing=True)"
   ]
  },
  {
   "cell_type": "code",
   "execution_count": 18,
   "id": "6755a300",
   "metadata": {},
   "outputs": [
    {
     "data": {
      "application/vnd.jupyter.widget-view+json": {
       "model_id": "0d65a15a47e3452396eb939b2466739f",
       "version_major": 2,
       "version_minor": 0
      },
      "text/plain": [
       "  0%|          | 0/9 [00:00<?, ?it/s]"
      ]
     },
     "metadata": {},
     "output_type": "display_data"
    }
   ],
   "source": [
    "caches = (cache_ranking_experts, cache_ranking_experts_mix, cache_voting_experts, cache_OGA, cache_DiscreteOGA, cache_FTPL, cache_LRU, cache_LFU, cache_BH)\n",
    "caches = simulate_caches_parallel(caches, trace)\n",
    "save_caches(caches, f\"./figures/yt_caches_{relative_cache_size}.pickle\")\n",
    "(cache_ranking_experts, cache_ranking_experts_mix, cache_voting_experts, cache_OGA, cache_DiscreteOGA, cache_FTPL, cache_LRU, cache_LFU, cache_BH) = caches"
   ]
  },
  {
   "cell_type": "code",
   "execution_count": 19,
   "id": "848c849a",
   "metadata": {},
   "outputs": [
    {
     "name": "stderr",
     "output_type": "stream",
     "text": [
      "/home/koen/anaconda3/lib/python3.7/site-packages/IPython/core/pylabtools.py:132: UserWarning: Creating legend with loc=\"best\" can be slow with large amounts of data.\n",
      "  fig.canvas.print_figure(bytes_io, **kw)\n"
     ]
    },
    {
     "data": {
      "image/png": "[encoded data removed]",
      "text/plain": [
       "<Figure size 432x288 with 1 Axes>"
      ]
     },
     "metadata": {
      "needs_background": "light"
     },
     "output_type": "display_data"
    }
   ],
   "source": [
    "# %matplotlib ipympl\n",
    "plot_comp(\\\n",
    "          cache_LRU,\\\n",
    "          cache_LFU,\\\n",
    "          cache_BH,\\\n",
    "#           cache_OGA,\\\n",
    "          cache_DiscreteOGA,\\\n",
    "          cache_FTPL,\\\n",
    "          cache_voting_experts,\\\n",
    "          cache_ranking_experts,\\\n",
    "         )"
   ]
  },
  {
   "cell_type": "code",
   "execution_count": 10,
   "id": "90d521f0",
   "metadata": {},
   "outputs": [],
   "source": [
    "trace = get_movielens_trace()\n",
    "\n",
    "sample_size, catalog_size = get_trace_stats(trace)\n",
    "cache_size = int(relative_cache_size*catalog_size)"
   ]
  },
  {
   "cell_type": "code",
   "execution_count": 11,
   "id": "feb5c980",
   "metadata": {},
   "outputs": [],
   "source": [
    "cache_init = init_cache(cache_size, catalog_size)\n",
    "\n",
    "cache_LRU = LRU(cache_size, catalog_size, cache_init)\n",
    "cache_LFU = LFU(cache_size, catalog_size, cache_init)\n",
    "cache_BH = CacheStatic(cache_size, catalog_size, gen_best_static(trace, cache_size))\n",
    "cache_OGA = OGA(cache_size, catalog_size, sample_size, cache_init)\n",
    "cache_DiscreteOGA = DiscreteOGA(cache_size, catalog_size, sample_size, cache_init)\n",
    "cache_FTPL = FTPL(cache_size, catalog_size, cache_init, sample_size=sample_size)\n",
    "\n",
    "DiscreteOGA_init = lambda cache_size, catalog_size, cache_init: DiscreteOGA(cache_size, catalog_size, sample_size, cache_init)\n",
    "FTPL_init =  lambda cache_size, catalog_size, cache_init: FTPL(cache_size, catalog_size, cache_init, sample_size=sample_size)\n",
    "voting_expert_policies = (LRU, FTPL_init, DiscreteOGA_init)\n",
    "cache_voting_experts = VotingExperts(cache_size, catalog_size, cache_init, voting_expert_policies)\n",
    "\n",
    "RankOGA_init = lambda cache_size, catalog_size, cache_init : RankOGA(cache_size, catalog_size, cache_init, sample_size=sample_size)\n",
    "RankFTPL_init = lambda cache_size, catalog_size, cache_init : RankFTPL(cache_size, catalog_size, cache_init, sample_size=sample_size)\n",
    "ranking_expert_policies = (RankLRU, RankFTPL_init, RankOGA_init)\n",
    "cache_ranking_experts = RankingExperts(cache_size, catalog_size, cache_init, ranking_expert_policies,alg=\"SD\", mixing=False)\n",
    "cache_ranking_experts_mix = RankingExperts(cache_size, catalog_size, cache_init, ranking_expert_policies,alg=\"SD\", mixing=True)"
   ]
  },
  {
   "cell_type": "code",
   "execution_count": 12,
   "id": "bbb4a0fc",
   "metadata": {},
   "outputs": [
    {
     "data": {
      "application/vnd.jupyter.widget-view+json": {
       "model_id": "95e6d6f4004c40a7bb770df906e91f6b",
       "version_major": 2,
       "version_minor": 0
      },
      "text/plain": [
       "  0%|          | 0/1000209 [00:00<?, ?it/s]"
      ]
     },
     "metadata": {},
     "output_type": "display_data"
    },
    {
     "ename": "KeyboardInterrupt",
     "evalue": "",
     "output_type": "error",
     "traceback": [
      "\u001b[0;31m---------------------------------------------------------------------------\u001b[0m",
      "\u001b[0;31mKeyboardInterrupt\u001b[0m                         Traceback (most recent call last)",
      "\u001b[0;32m<ipython-input-12-203c31dbb2c6>\u001b[0m in \u001b[0;36m<module>\u001b[0;34m\u001b[0m\n\u001b[1;32m      1\u001b[0m \u001b[0mcaches\u001b[0m \u001b[0;34m=\u001b[0m \u001b[0;34m(\u001b[0m\u001b[0mcache_ranking_experts\u001b[0m\u001b[0;34m,\u001b[0m \u001b[0mcache_ranking_experts_mix\u001b[0m\u001b[0;34m,\u001b[0m \u001b[0mcache_voting_experts\u001b[0m\u001b[0;34m,\u001b[0m \u001b[0mcache_OGA\u001b[0m\u001b[0;34m,\u001b[0m \u001b[0mcache_DiscreteOGA\u001b[0m\u001b[0;34m,\u001b[0m \u001b[0mcache_FTPL\u001b[0m\u001b[0;34m,\u001b[0m \u001b[0mcache_LRU\u001b[0m\u001b[0;34m,\u001b[0m \u001b[0mcache_LFU\u001b[0m\u001b[0;34m,\u001b[0m \u001b[0mcache_BH\u001b[0m\u001b[0;34m)\u001b[0m\u001b[0;34m\u001b[0m\u001b[0;34m\u001b[0m\u001b[0m\n\u001b[0;32m----> 2\u001b[0;31m \u001b[0mcaches\u001b[0m \u001b[0;34m=\u001b[0m \u001b[0msimulate_caches\u001b[0m\u001b[0;34m(\u001b[0m\u001b[0mcaches\u001b[0m\u001b[0;34m,\u001b[0m \u001b[0mtrace\u001b[0m\u001b[0;34m)\u001b[0m\u001b[0;34m\u001b[0m\u001b[0;34m\u001b[0m\u001b[0m\n\u001b[0m\u001b[1;32m      3\u001b[0m \u001b[0;31m# save_caches(caches, f\"./figures/movielens_caches_{relative_cache_size}.pickle\")\u001b[0m\u001b[0;34m\u001b[0m\u001b[0;34m\u001b[0m\u001b[0;34m\u001b[0m\u001b[0m\n\u001b[1;32m      4\u001b[0m \u001b[0;34m(\u001b[0m\u001b[0mcache_ranking_experts\u001b[0m\u001b[0;34m,\u001b[0m \u001b[0mcache_ranking_experts_mix\u001b[0m\u001b[0;34m,\u001b[0m \u001b[0mcache_voting_experts\u001b[0m\u001b[0;34m,\u001b[0m \u001b[0mcache_OGA\u001b[0m\u001b[0;34m,\u001b[0m \u001b[0mcache_DiscreteOGA\u001b[0m\u001b[0;34m,\u001b[0m \u001b[0mcache_FTPL\u001b[0m\u001b[0;34m,\u001b[0m \u001b[0mcache_LRU\u001b[0m\u001b[0;34m,\u001b[0m \u001b[0mcache_LFU\u001b[0m\u001b[0;34m,\u001b[0m \u001b[0mcache_BH\u001b[0m\u001b[0;34m)\u001b[0m \u001b[0;34m=\u001b[0m \u001b[0mcaches\u001b[0m\u001b[0;34m\u001b[0m\u001b[0;34m\u001b[0m\u001b[0m\n",
      "\u001b[0;32m~/Programming/Master/CachingSimulator/simulator/simulator.py\u001b[0m in \u001b[0;36msimulate_caches\u001b[0;34m(caches, trace, separate_simulations)\u001b[0m\n\u001b[1;32m    118\u001b[0m         \u001b[0;32mfor\u001b[0m \u001b[0mrequest\u001b[0m \u001b[0;32min\u001b[0m \u001b[0mtqdm\u001b[0m\u001b[0;34m(\u001b[0m\u001b[0mtrace\u001b[0m\u001b[0;34m,\u001b[0m \u001b[0mtotal\u001b[0m\u001b[0;34m=\u001b[0m\u001b[0mlen\u001b[0m\u001b[0;34m(\u001b[0m\u001b[0mtrace\u001b[0m\u001b[0;34m)\u001b[0m\u001b[0;34m)\u001b[0m\u001b[0;34m:\u001b[0m\u001b[0;34m\u001b[0m\u001b[0;34m\u001b[0m\u001b[0m\n\u001b[1;32m    119\u001b[0m             \u001b[0;32mfor\u001b[0m \u001b[0mcache\u001b[0m \u001b[0;32min\u001b[0m \u001b[0mcaches\u001b[0m\u001b[0;34m:\u001b[0m\u001b[0;34m\u001b[0m\u001b[0;34m\u001b[0m\u001b[0m\n\u001b[0;32m--> 120\u001b[0;31m                 \u001b[0mcache\u001b[0m\u001b[0;34m.\u001b[0m\u001b[0mrequest\u001b[0m\u001b[0;34m(\u001b[0m\u001b[0mrequest\u001b[0m\u001b[0;34m)\u001b[0m\u001b[0;34m\u001b[0m\u001b[0;34m\u001b[0m\u001b[0m\n\u001b[0m\u001b[1;32m    121\u001b[0m     \u001b[0;32melse\u001b[0m\u001b[0;34m:\u001b[0m\u001b[0;34m\u001b[0m\u001b[0;34m\u001b[0m\u001b[0m\n\u001b[1;32m    122\u001b[0m         \u001b[0;32mfor\u001b[0m \u001b[0mcache\u001b[0m \u001b[0;32min\u001b[0m \u001b[0mcaches\u001b[0m\u001b[0;34m:\u001b[0m\u001b[0;34m\u001b[0m\u001b[0;34m\u001b[0m\u001b[0m\n",
      "\u001b[0;32m~/Programming/Master/CachingSimulator/simulator/cache.py\u001b[0m in \u001b[0;36mrequest\u001b[0;34m(self, request)\u001b[0m\n",
      "\u001b[0;32m<__array_function__ internals>\u001b[0m in \u001b[0;36margsort\u001b[0;34m(*args, **kwargs)\u001b[0m\n",
      "\u001b[0;32m~/anaconda3/lib/python3.7/site-packages/numpy/core/fromnumeric.py\u001b[0m in \u001b[0;36margsort\u001b[0;34m(a, axis, kind, order)\u001b[0m\n\u001b[1;32m   1110\u001b[0m \u001b[0;34m\u001b[0m\u001b[0m\n\u001b[1;32m   1111\u001b[0m     \"\"\"\n\u001b[0;32m-> 1112\u001b[0;31m     \u001b[0;32mreturn\u001b[0m \u001b[0m_wrapfunc\u001b[0m\u001b[0;34m(\u001b[0m\u001b[0ma\u001b[0m\u001b[0;34m,\u001b[0m \u001b[0;34m'argsort'\u001b[0m\u001b[0;34m,\u001b[0m \u001b[0maxis\u001b[0m\u001b[0;34m=\u001b[0m\u001b[0maxis\u001b[0m\u001b[0;34m,\u001b[0m \u001b[0mkind\u001b[0m\u001b[0;34m=\u001b[0m\u001b[0mkind\u001b[0m\u001b[0;34m,\u001b[0m \u001b[0morder\u001b[0m\u001b[0;34m=\u001b[0m\u001b[0morder\u001b[0m\u001b[0;34m)\u001b[0m\u001b[0;34m\u001b[0m\u001b[0;34m\u001b[0m\u001b[0m\n\u001b[0m\u001b[1;32m   1113\u001b[0m \u001b[0;34m\u001b[0m\u001b[0m\n\u001b[1;32m   1114\u001b[0m \u001b[0;34m\u001b[0m\u001b[0m\n",
      "\u001b[0;32m~/anaconda3/lib/python3.7/site-packages/numpy/core/fromnumeric.py\u001b[0m in \u001b[0;36m_wrapfunc\u001b[0;34m(obj, method, *args, **kwds)\u001b[0m\n\u001b[1;32m     56\u001b[0m \u001b[0;34m\u001b[0m\u001b[0m\n\u001b[1;32m     57\u001b[0m     \u001b[0;32mtry\u001b[0m\u001b[0;34m:\u001b[0m\u001b[0;34m\u001b[0m\u001b[0;34m\u001b[0m\u001b[0m\n\u001b[0;32m---> 58\u001b[0;31m         \u001b[0;32mreturn\u001b[0m \u001b[0mbound\u001b[0m\u001b[0;34m(\u001b[0m\u001b[0;34m*\u001b[0m\u001b[0margs\u001b[0m\u001b[0;34m,\u001b[0m \u001b[0;34m**\u001b[0m\u001b[0mkwds\u001b[0m\u001b[0;34m)\u001b[0m\u001b[0;34m\u001b[0m\u001b[0;34m\u001b[0m\u001b[0m\n\u001b[0m\u001b[1;32m     59\u001b[0m     \u001b[0;32mexcept\u001b[0m \u001b[0mTypeError\u001b[0m\u001b[0;34m:\u001b[0m\u001b[0;34m\u001b[0m\u001b[0;34m\u001b[0m\u001b[0m\n\u001b[1;32m     60\u001b[0m         \u001b[0;31m# A TypeError occurs if the object does have such a method in its\u001b[0m\u001b[0;34m\u001b[0m\u001b[0;34m\u001b[0m\u001b[0;34m\u001b[0m\u001b[0m\n",
      "\u001b[0;31mKeyboardInterrupt\u001b[0m: "
     ]
    }
   ],
   "source": [
    "caches = (cache_ranking_experts, cache_ranking_experts_mix, cache_voting_experts, cache_OGA, cache_DiscreteOGA, cache_FTPL, cache_LRU, cache_LFU, cache_BH)\n",
    "caches = simulate_caches(caches, trace)\n",
    "# save_caches(caches, f\"./figures/movielens_caches_{relative_cache_size}.pickle\")\n",
    "(cache_ranking_experts, cache_ranking_experts_mix, cache_voting_experts, cache_OGA, cache_DiscreteOGA, cache_FTPL, cache_LRU, cache_LFU, cache_BH) = caches"
   ]
  },
  {
   "cell_type": "code",
   "execution_count": 23,
   "id": "48810dec",
   "metadata": {},
   "outputs": [
    {
     "name": "stderr",
     "output_type": "stream",
     "text": [
      "/home/koen/anaconda3/lib/python3.7/site-packages/IPython/core/pylabtools.py:132: UserWarning: Creating legend with loc=\"best\" can be slow with large amounts of data.\n",
      "  fig.canvas.print_figure(bytes_io, **kw)\n"
     ]
    },
    {
     "data": {
      "image/png": "[encoded data removed]",
      "text/plain": [
       "<Figure size 432x288 with 1 Axes>"
      ]
     },
     "metadata": {
      "needs_background": "light"
     },
     "output_type": "display_data"
    }
   ],
   "source": [
    "plot_comp(\\\n",
    "          cache_LRU,\\\n",
    "          cache_LFU,\\\n",
    "          cache_BH,\\\n",
    "#           cache_OGA,\\\n",
    "          cache_DiscreteOGA,\\\n",
    "          cache_FTPL,\\\n",
    "          cache_voting_experts,\\\n",
    "          cache_ranking_experts,\\\n",
    "         )"
   ]
  },
  {
   "cell_type": "code",
   "execution_count": 24,
   "id": "d5250d55",
   "metadata": {},
   "outputs": [],
   "source": [
    "catalog_size = 100\n",
    "cache_size = int(relative_cache_size*catalog_size)\n",
    "sample_size = 800000\n",
    "\n",
    "rrm_trace1 = random_replacement_model(sample_size//4, catalog_size, power_law_exp=0.8, shuffled=True, replacement_rate=10)\n",
    "rrm_trace2 = random_replacement_model(sample_size//4, catalog_size, power_law_exp=0.8, shuffled=True, replacement_rate=1000)\n",
    "rrm_trace3 = random_replacement_model(sample_size//4, catalog_size, power_law_exp=0.8, shuffled=True, replacement_rate=10)\n",
    "rrm_trace4 = random_replacement_model(sample_size//4, catalog_size, power_law_exp=0.8, shuffled=True, replacement_rate=1000)\n",
    "\n",
    "trace = combine_trace(rrm_trace1, rrm_trace2, rrm_trace3, rrm_trace4)"
   ]
  },
  {
   "cell_type": "code",
   "execution_count": 25,
   "id": "aef3a659",
   "metadata": {},
   "outputs": [],
   "source": [
    "cache_init = init_cache(cache_size, catalog_size)\n",
    "\n",
    "cache_LRU = LRU(cache_size, catalog_size, cache_init)\n",
    "cache_LFU = LFU(cache_size, catalog_size, cache_init)\n",
    "cache_BH = CacheStatic(cache_size, catalog_size, gen_best_static(trace, cache_size))\n",
    "cache_OGA = OGA(cache_size, catalog_size, sample_size, cache_init)\n",
    "cache_DiscreteOGA = DiscreteOGA(cache_size, catalog_size, sample_size, cache_init)\n",
    "cache_FTPL = FTPL(cache_size, catalog_size, cache_init, sample_size=sample_size)\n",
    "\n",
    "DiscreteOGA_init = lambda cache_size, catalog_size, cache_init: DiscreteOGA(cache_size, catalog_size, sample_size, cache_init)\n",
    "FTPL_init =  lambda cache_size, catalog_size, cache_init: FTPL(cache_size, catalog_size, cache_init, sample_size=sample_size)\n",
    "voting_expert_policies = (LRU, FTPL_init, DiscreteOGA_init)\n",
    "cache_voting_experts = VotingExperts(cache_size, catalog_size, cache_init, voting_expert_policies)\n",
    "\n",
    "RankOGA_init = lambda cache_size, catalog_size, cache_init : RankOGA(cache_size, catalog_size, cache_init, sample_size=sample_size)\n",
    "RankFTPL_init = lambda cache_size, catalog_size, cache_init : RankFTPL(cache_size, catalog_size, cache_init, sample_size=sample_size)\n",
    "ranking_expert_policies = (RankLRU, RankFTPL_init, RankOGA_init)\n",
    "cache_ranking_experts = RankingExperts(cache_size, catalog_size, cache_init, ranking_expert_policies,alg=\"SD\", mixing=False)\n",
    "cache_ranking_experts_mix = RankingExperts(cache_size, catalog_size, cache_init, ranking_expert_policies,alg=\"SD\", mixing=True)"
   ]
  },
  {
   "cell_type": "code",
   "execution_count": 26,
   "id": "5a72ac05",
   "metadata": {},
   "outputs": [
    {
     "data": {
      "application/vnd.jupyter.widget-view+json": {
       "model_id": "8c5db1c53561468e9f6348620033c417",
       "version_major": 2,
       "version_minor": 0
      },
      "text/plain": [
       "  0%|          | 0/9 [00:00<?, ?it/s]"
      ]
     },
     "metadata": {},
     "output_type": "display_data"
    }
   ],
   "source": [
    "caches = (cache_ranking_experts, cache_ranking_experts_mix, cache_voting_experts, cache_OGA, cache_DiscreteOGA, cache_FTPL, cache_LRU, cache_LFU, cache_BH)\n",
    "caches = simulate_caches_parallel(caches, trace)\n",
    "save_caches(caches, f\"./figures/rrm_multiple_caches_{relative_cache_size}.pickle\")\n",
    "(cache_ranking_experts, cache_ranking_experts_mix, cache_voting_experts, cache_OGA, cache_DiscreteOGA, cache_FTPL, cache_LRU, cache_LFU, cache_BH) = caches"
   ]
  },
  {
   "cell_type": "code",
   "execution_count": 28,
   "id": "6c2531c1",
   "metadata": {},
   "outputs": [
    {
     "name": "stderr",
     "output_type": "stream",
     "text": [
      "/home/koen/anaconda3/lib/python3.7/site-packages/IPython/core/pylabtools.py:132: UserWarning: Creating legend with loc=\"best\" can be slow with large amounts of data.\n",
      "  fig.canvas.print_figure(bytes_io, **kw)\n"
     ]
    },
    {
     "data": {
      "image/png": "[encoded data removed]",
      "text/plain": [
       "<Figure size 432x288 with 1 Axes>"
      ]
     },
     "metadata": {
      "needs_background": "light"
     },
     "output_type": "display_data"
    }
   ],
   "source": [
    "plot_comp(\\\n",
    "          cache_LRU,\\\n",
    "          cache_LFU,\\\n",
    "          cache_BH,\\\n",
    "#           cache_OGA,\\\n",
    "          cache_DiscreteOGA,\\\n",
    "          cache_FTPL,\\\n",
    "          cache_voting_experts,\\\n",
    "          cache_ranking_experts,\\\n",
    "         )\n",
    "# plt.ylim([0, 0.5])"
   ]
  },
  {
   "cell_type": "code",
   "execution_count": null,
   "id": "14e315ee",
   "metadata": {},
   "outputs": [],
   "source": []
  }
 ],
 "metadata": {
  "kernelspec": {
   "display_name": "Python 3",
   "language": "python",
   "name": "python3"
  },
  "language_info": {
   "codemirror_mode": {
    "name": "ipython",
    "version": 3
   },
   "file_extension": ".py",
   "mimetype": "text/x-python",
   "name": "python",
   "nbconvert_exporter": "python",
   "pygments_lexer": "ipython3",
   "version": "3.7.10"
  }
 },
 "nbformat": 4,
 "nbformat_minor": 5
}
